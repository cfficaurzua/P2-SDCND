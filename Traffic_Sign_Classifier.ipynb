{
 "cells": [
  {
   "cell_type": "markdown",
   "metadata": {
    "deletable": true,
    "editable": true
   },
   "source": [
    "# Self-Driving Car Engineer Nanodegree\n",
    "\n",
    "## Deep Learning\n",
    "\n",
    "## Project: Build a Traffic Sign Recognition Classifier\n"
   ]
  },
  {
   "cell_type": "markdown",
   "metadata": {
    "deletable": true,
    "editable": true
   },
   "source": [
    "---\n",
    "## Step 0: Import related libraries"
   ]
  },
  {
   "cell_type": "code",
   "execution_count": null,
   "metadata": {
    "collapsed": false,
    "deletable": true,
    "editable": true
   },
   "outputs": [],
   "source": [
    "##import every libraries needed in the notebook\n",
    "import pickle\n",
    "import tensorflow as tf\n",
    "import numpy as np\n",
    "import pandas as pd\n",
    "import matplotlib.pyplot as plt\n",
    "import matplotlib.gridspec as gs\n",
    "from scipy import ndimage\n",
    "import random\n",
    "import cv2\n",
    "import gc\n",
    "import glob\n",
    "from skimage import transform as trans\n",
    "from skimage import img_as_ubyte\n",
    "from skimage import restoration\n",
    "from PIL import ImageEnhance\n",
    "from PIL import Image\n",
    "from tqdm import tqdm\n",
    "from sklearn.utils import shuffle\n",
    "import warnings\n",
    "import glob\n",
    "import textwrap\n",
    "warnings.filterwarnings(\"ignore\")"
   ]
  },
  {
   "cell_type": "markdown",
   "metadata": {
    "deletable": true,
    "editable": true
   },
   "source": [
    "## Step 1: Load The Data"
   ]
  },
  {
   "cell_type": "code",
   "execution_count": null,
   "metadata": {
    "collapsed": false,
    "deletable": true,
    "editable": true
   },
   "outputs": [],
   "source": [
    "# Useful directories\n",
    "training_file = 'data/train.p'\n",
    "validation_file= 'data/valid.p'\n",
    "testing_file = 'data/test.p'\n",
    "images_dir = 'images/'\n",
    "\n",
    "# loading files\n",
    "with open(training_file, mode='rb') as f:\n",
    "    train = pickle.load(f)\n",
    "with open(validation_file, mode='rb') as f:\n",
    "    valid = pickle.load(f)\n",
    "with open(testing_file, mode='rb') as f:\n",
    "    test = pickle.load(f)\n",
    "    \n",
    "# loading x and y data from every set\n",
    "X_train, y_train = train['features'], train['labels']\n",
    "X_valid, y_valid = valid['features'], valid['labels']\n",
    "X_test, y_test = test['features'], test['labels']\n"
   ]
  },
  {
   "cell_type": "markdown",
   "metadata": {
    "deletable": true,
    "editable": true
   },
   "source": [
    "---\n",
    "\n",
    "## Step 2: Dataset Summary & Exploration"
   ]
  },
  {
   "cell_type": "code",
   "execution_count": null,
   "metadata": {
    "collapsed": false,
    "deletable": true,
    "editable": true
   },
   "outputs": [],
   "source": [
    "#Number of training examples\n",
    "n_train = X_train.shape[0]\n",
    "\n",
    "# Number of testing examples.\n",
    "n_test = X_test.shape[0]\n",
    "\n",
    "# Number of validation examples.\n",
    "n_valid = X_valid.shape[0]\n",
    "\n",
    "#shape of an traffic sign image.\n",
    "image_shape = X_train.shape[1:]\n",
    "\n",
    "#How many unique classes/labels there are in the dataset.\n",
    "signnames = pd.read_csv('signnames.csv')\n",
    "n_classes = signnames.shape[0]\n",
    "signnames = pd.DataFrame(signnames)\n",
    "signnames = dict(zip(list(signnames.ClassId), list(signnames.SignName)))\n",
    "\n",
    "#displaying summary\n",
    "\n",
    "print(\"Number of training examples =\\t\", n_train)\n",
    "print(\"Number of testing examples =\\t\", n_test)\n",
    "print(\"Number of validation examples =\\t\", n_valid)\n",
    "print(\"Image data shape =\\t\\t\", image_shape)\n",
    "print(\"Number of classes =\\t\\t\", n_classes)"
   ]
  },
  {
   "cell_type": "markdown",
   "metadata": {
    "deletable": true,
    "editable": true
   },
   "source": [
    "### Training Set distribution\n"
   ]
  },
  {
   "cell_type": "code",
   "execution_count": null,
   "metadata": {
    "collapsed": false,
    "deletable": true,
    "editable": true
   },
   "outputs": [],
   "source": [
    "## number of counts per class\n",
    "classes, counts = np.unique(y_train, return_counts=True)\n",
    "classes_count = dict(zip(classes, counts))\n",
    "\n",
    "#plotting and saving bar chart\n",
    "fig = plt.figure(figsize=(20,5))\n",
    "plt.title('Training classes distribution')\n",
    "plt.xticks(list(signnames.keys()), signnames.values(),rotation =  'vertical')\n",
    "plt.bar(classes,counts)\n",
    "plt.show()\n",
    "fig.savefig(images_dir + 'training_distribution.png')"
   ]
  },
  {
   "cell_type": "code",
   "execution_count": null,
   "metadata": {
    "collapsed": true,
    "deletable": true,
    "editable": true
   },
   "outputs": [],
   "source": [
    "%matplotlib inline\n",
    "def plotGrid(sample_set, labels,  signnames, name, columns=5, cutoff = 5):\n",
    "    \"\"\"Function to plot the traffic signs in a grid with the corresponding title in the left side,\n",
    "       all traffic signs are first sorted and randomly selected to fill the columns,the figure is then saved.\n",
    "    \"\"\"\n",
    "    assert len(sample_set) == len(labels)\n",
    "    input_set = sample_set[labels.argsort()] \n",
    "    classes, counts = np.unique(labels, return_counts=True)\n",
    "    indexes = np.append([0],np.cumsum(counts))\n",
    "    figsize = (3*columns,3*(min(len(classes),cutoff)))\n",
    "    fig, axes = plt.subplots(min(len(classes),cutoff), columns,figsize=figsize)\n",
    "    fig.subplots_adjust(hspace=0, wspace=0)\n",
    "    for i, row in enumerate(axes):\n",
    "        index = list(range(indexes[i], indexes[i+1]))\n",
    "        random.shuffle(index)\n",
    "        for j,ax in enumerate(row):\n",
    "            if (len(index)>0):\n",
    "                ind = index.pop()\n",
    "                if input_set[ind].shape[2]<3:\n",
    "                    ax.imshow(input_set[ind][:,:,0], cmap='gray')\n",
    "                else:\n",
    "                    ax.imshow(input_set[ind])\n",
    "                if j == 0:\n",
    "                    ax.set_ylabel(textwrap.fill(signnames[classes[i]],15),rotation=0, fontsize=20, horizontalalignment =  'right')\n",
    "            ax.get_xaxis().set_ticks([])\n",
    "            ax.get_yaxis().set_ticks([])\n",
    "    fig.savefig(images_dir+name+'.png')"
   ]
  },
  {
   "cell_type": "markdown",
   "metadata": {
    "deletable": true,
    "editable": true
   },
   "source": [
    "### Dataset Preview"
   ]
  },
  {
   "cell_type": "code",
   "execution_count": null,
   "metadata": {
    "collapsed": false,
    "deletable": true,
    "editable": true
   },
   "outputs": [],
   "source": [
    "plotGrid(X_train,y_train,signnames,'raw_visualization',8,43)"
   ]
  },
  {
   "cell_type": "markdown",
   "metadata": {
    "deletable": true,
    "editable": true
   },
   "source": [
    "# Image Augmentation\n"
   ]
  },
  {
   "cell_type": "markdown",
   "metadata": {
    "deletable": true,
    "editable": true
   },
   "source": [
    "### Augmentation functios"
   ]
  },
  {
   "cell_type": "code",
   "execution_count": null,
   "metadata": {
    "collapsed": false,
    "deletable": true,
    "editable": true
   },
   "outputs": [],
   "source": [
    "\n",
    "def transform_augmentation(input, args):\n",
    "    \"\"\"Make random transformations to the input image, using random shears and rotator factors\"\"\"\n",
    "    shear = np.random.normal(0,.1)\n",
    "    rotator = np.random.normal(0,.1)\n",
    "    affine_tf = trans.AffineTransform(shear = shear, rotation = rotator)\n",
    "    modified = trans.warp(input,affine_tf, mode = args['mode'])\n",
    "    output = img_as_ubyte(modified)\n",
    "    return [output]\n",
    "\n",
    "#def scatterpoints(input, sigma = 5):\n",
    "#    \"\"\"scatter points within a circle of radius sigma\"\"\"\n",
    "#    output = np.empty((0,2),dtype= 'uint8')\n",
    "#    for i in input:\n",
    "#        output = np.append(output,[[int(random.gauss(i[0],sigma)),int(random.gauss(i[1],sigma))]],axis = 0)\n",
    "#    return output.astype(np.float32)\n",
    "\n",
    "def perspective_augmentation(input, args):\n",
    "    \"\"\"make random perspective changes, in the horizontal or vertical axis\"\"\"\n",
    "    m = input.shape[0]\n",
    "    d = random.choice([random.randint(-8,-2),random.randint(2,8)])\n",
    "    src = np.float32([[0,0],[0,m],[m,0],[m,m]])\n",
    "    vertical = np.float32([[d,0],[-d,m],[m-d,0],[m+d,m]])\n",
    "    horizontal = np.float32([[0,d],[0,m-d],[m,-d],[m,m+d]])\n",
    "    dst = random.choice([vertical,horizontal])\n",
    "    tform = cv2.getPerspectiveTransform(src,dst)\n",
    "    modified = cv2.warpPerspective(input, tform, (32,32), borderMode = cv2.BORDER_REPLICATE)\n",
    "    output = img_as_ubyte(modified)\n",
    "    return [output]\n",
    "\n",
    "def destroy_augmentation(input, args):\n",
    "    \"Changes random pixels to the median values\"\n",
    "    output = input.copy()\n",
    "    x = np.random.randint(0,input.shape[0], args['destroy_intensity'])\n",
    "    y = np.random.randint(0,input.shape[1], args['destroy_intensity'])\n",
    "    for j in range(args['destroy_intensity']):\n",
    "        output[x[j]][y[j]] = np.random.normal(np.median(input),1)\n",
    "    return [output]\n",
    "\n",
    "def enhance_augmentation(input, args):\n",
    "    \"Randomly change Brightness or Contrast of the input image\"\n",
    "    image = Image.fromarray(input)\n",
    "    func = random.choice(args['enhance_functions'])\n",
    "    enhancer = func(image)\n",
    "    factor = random.uniform(0.6,2)\n",
    "    output = np.array(enhancer.enhance(factor),dtype = 'uint8')\n",
    "    return [output]\n",
    "\n",
    "def flip_augmentation(input, args):\n",
    "    \"\"\"Check if the input image is flippable and then flip it either vertically,\n",
    "    horizontally, or horizontally and then vertically\"\"\"\n",
    "    label = args['label']\n",
    "    flippable = {'horizontal' : [11, 12, 13, 15, 17, 18, 22, 26, 30, 35], # Horizontal flippable signs\n",
    "                 'vertical' : [1, 5, 12, 15, 17], #vertical flippable signs\n",
    "                 'both' : [32, 40]} #horizontal then vertical flippable signs\n",
    "    \n",
    "    output = np.empty((0,)+input.shape[0:], dtype = input.dtype)\n",
    "    if label in flippable['horizontal']: \n",
    "        output = np.append(output,[np.fliplr(input)],axis = 0) #perfom horizontal flip\n",
    "    if label in flippable['vertical']:\n",
    "        output = np.append(output,[np.flipud(input)], axis = 0) #perfom vertical flip\n",
    "    if label in flippable['both']:\n",
    "        hf = np.fliplr(input) #perfom horizontal flip then\n",
    "        vf = np.flipud(hf) #perfom vertical flip\n",
    "        output = np.append(output,[vf], axis = 0) \n",
    "    return output\n",
    "\n",
    "\n",
    "#def get_required_augdata(classes_count):\n",
    "#    \"\"\"get the quantity of data required to fulfill each set, so the set is equally balanced \"\"\"\n",
    "#    output = classes_count.copy()\n",
    "#    max_count = np.max(list(classes_count.values()))\n",
    "#    for i in classes_count:\n",
    "#        output[i] = max_count - classes_count[i]\n",
    "#    return output\n",
    "\n",
    "def augment_data(sample_set, labels_set, expansion_size, functions,args):\n",
    "    \"\"\"randomly generates new data and append it to the existing one, using random functions of augmentation\"\"\"\n",
    "    sample_set = sample_set[labels_set.argsort()]\n",
    "    classes, counts = np.unique(labels_set, return_counts=True)\n",
    "    indexes = np.append([0],np.cumsum(counts))\n",
    "    samples = sample_set.copy()\n",
    "    labels =  np.sort(labels_set.copy())\n",
    "    for i in tqdm(range(n_classes)):\n",
    "        new_data = np.empty((0,)+sample_set.shape[1:], dtype = sample_set.dtype)\n",
    "        while new_data.shape[0]<expansion_size:\n",
    "            index = random.randint(indexes[i],indexes[i+1]-1)\n",
    "            args['label'] = i\n",
    "            temp_data = random.choice(functions)(sample_set[index],args)\n",
    "            new_data  = np.append(new_data,temp_data,axis=0)\n",
    "        samples = np.append(samples,new_data,axis=0)\n",
    "        labels = np.append(labels, [i]*new_data.shape[0])\n",
    "        del new_data          \n",
    "        gc.collect()\n",
    "    return [samples,labels]\n",
    "\n",
    "def balance_data(sample_set, labels_set, cutoff=2000):\n",
    "    \"\"\"Randomly select data from a set in order to get a equal size balanced data.\"\"\"\n",
    "    sample_set = sample_set[labels_set.argsort()]\n",
    "    classes, counts = np.unique(labels_set, return_counts=True)\n",
    "    indexes = np.append([0],np.cumsum(counts))\n",
    "    x_balanced = np.empty((0,)+sample_set.shape[1:], dtype = sample_set.dtype)\n",
    "    y_balanced = np.empty((0))\n",
    "    for i in tqdm(range(n_classes)):\n",
    "        idxs = np.random.randint(indexes[i],indexes[i+1]-1,cutoff)\n",
    "        temp_data = sample_set[idxs]\n",
    "        x_balanced = np.append(x_balanced,temp_data,axis=0)\n",
    "        y_balanced = np.append(y_balanced,[i]*temp_data.shape[0])\n",
    "    return {'x':x_balanced,'y': y_balanced}\n",
    "\n",
    "\n",
    "\n"
   ]
  },
  {
   "cell_type": "markdown",
   "metadata": {
    "deletable": true,
    "editable": true
   },
   "source": [
    "### Examples of augmentation functions"
   ]
  },
  {
   "cell_type": "code",
   "execution_count": null,
   "metadata": {
    "collapsed": false,
    "deletable": true,
    "editable": true
   },
   "outputs": [],
   "source": [
    "i = 3497\n",
    "original = X_train[i]\n",
    "fig, axes = plt.subplots(5,3, figsize = (20,20))\n",
    "fig.subplots_adjust(hspace=0, wspace=0)\n",
    "augmentations = [destroy_augmentation,transform_augmentation,flip_augmentation,perspective_augmentation,enhance_augmentation]\n",
    "aug_labels = ['Destroy augmentation','Transform augmentation','Flip augmentation','Perspective augmentation','Enhance augmentation']\n",
    "args = {'mode':'edge',\n",
    "        'destroy_intensity':300,\n",
    "        'label':1,\n",
    "        'enhance_functions':[ImageEnhance.Contrast,\n",
    "                             ImageEnhance.Brightness]}\n",
    "axes[0][0].set_title('Original', fontsize=20)\n",
    "axes[0][1].set_title('Random Generated picture', fontsize=20)\n",
    "axes[0][2].set_title('Random Generated picture', fontsize=20)\n",
    "for i, row in enumerate(axes):\n",
    "    for j,ax in enumerate(row):\n",
    "        ax.get_xaxis().set_ticks([])\n",
    "        ax.get_yaxis().set_ticks([])\n",
    "        if j % 5 == 0:\n",
    "            ax.imshow(original)\n",
    "            ax.set_ylabel(textwrap.fill(aug_labels[i],15),rotation=0, fontsize=20, horizontalalignment =  'right')\n",
    "        else:\n",
    "            ax.imshow(augmentations[i](original,args)[0])\n",
    "\n",
    "plt.show()\n",
    "fig.savefig(images_dir+'augmentations_examples.png')"
   ]
  },
  {
   "cell_type": "markdown",
   "metadata": {
    "deletable": true,
    "editable": true
   },
   "source": [
    "### Augmentation and balance process"
   ]
  },
  {
   "cell_type": "code",
   "execution_count": null,
   "metadata": {
    "collapsed": false,
    "deletable": true,
    "editable": true
   },
   "outputs": [],
   "source": [
    "force_data_augmentation = True\n",
    "#functions use to augment data\n",
    "functions=[destroy_augmentation,transform_augmentation,flip_augmentation,perspective_augmentation,enhance_augmentation]     \n",
    "#parameters use to augmetn data\n",
    "args = {'mode':'edge',\n",
    "        'destroy_intensity':300,\n",
    "        'enhance_functions':[ImageEnhance.Contrast,\n",
    "                             ImageEnhance.Brightness]}\n",
    "\n",
    "def augmentation_process(extension=50,cutoff=50):\n",
    "    \"\"\"perform the augmentation process follow by a balance process\"\"\"\n",
    "    x,y = augment_data(X_train,y_train, extension,functions,args)\n",
    "    new_data = balance_data(x,y,cutoff)\n",
    "    pickle.dump(new_data, open('new_data.p','wb'))\n",
    "    return new_data\n",
    "\n",
    "if force_data_augmentation:\n",
    "    new_data = augmentation_process()\n",
    "else:    \n",
    "    try:\n",
    "        new_data = pickle.load(open('new_data.p','rb'))\n",
    "    except(OSError, IOError) as e:\n",
    "        new_data = augmentation_process()"
   ]
  },
  {
   "cell_type": "markdown",
   "metadata": {
    "deletable": true,
    "editable": true
   },
   "source": [
    "### Augmented dataset balanced distribution"
   ]
  },
  {
   "cell_type": "code",
   "execution_count": null,
   "metadata": {
    "collapsed": false,
    "deletable": true,
    "editable": true
   },
   "outputs": [],
   "source": [
    "aug_classes, aug_counts = np.unique(new_data['y'], return_counts=True)\n",
    "classes_count_aug = dict(zip(aug_classes, aug_counts))\n",
    "fig = plt.figure(figsize=(20,5))\n",
    "plt.title('Balanced training classes distribution')\n",
    "plt.xticks(list(signnames.keys()), signnames.values(),rotation =  'vertical')\n",
    "plt.bar(classes,aug_counts, label=\"with augmentation\")\n",
    "plt.bar(classes,counts,label=\"without augmentation\")\n",
    "plt.legend()\n",
    "plt.show()\n",
    "fig.savefig(images_dir + 'balanced_training_distribution.png')"
   ]
  },
  {
   "cell_type": "markdown",
   "metadata": {
    "deletable": true,
    "editable": true
   },
   "source": [
    "### Augmented dataset preview"
   ]
  },
  {
   "cell_type": "code",
   "execution_count": null,
   "metadata": {
    "collapsed": false,
    "deletable": true,
    "editable": true
   },
   "outputs": [],
   "source": [
    "plotGrid(new_data['x'],new_data['y'],signnames,'augmented_data',8,43)"
   ]
  },
  {
   "cell_type": "code",
   "execution_count": null,
   "metadata": {
    "collapsed": false,
    "deletable": true,
    "editable": true
   },
   "outputs": [],
   "source": [
    "bypass_augmentation = False\n",
    "if bypass_augmentation:\n",
    "    X_train_input = X_train\n",
    "    y_train_input = y_train\n",
    "    n_train = n_train\n",
    "else:\n",
    "    X_train_input = new_data['x']\n",
    "    y_train_input = new_data['y']\n",
    "    n_train = X_train_input.shape[0]\n",
    "print(\"New Number of training examples =\\t\", n_train)"
   ]
  },
  {
   "cell_type": "markdown",
   "metadata": {
    "deletable": true,
    "editable": true
   },
   "source": [
    "## Pre-process the Data Set \n",
    "### Pre-processing functions"
   ]
  },
  {
   "cell_type": "code",
   "execution_count": null,
   "metadata": {
    "collapsed": false,
    "deletable": true,
    "editable": true,
    "scrolled": true
   },
   "outputs": [],
   "source": [
    "def normalization(input,l=0.1,u=0.9):\n",
    "    \"squeezes the data between the range given\"\n",
    "    output = np.zeros_like(input, dtype = np.float)\n",
    "    c=(u-l)\n",
    "    r = input[:,:,0]\n",
    "    g = input[:,:,1]\n",
    "    b = input[:,:,2]\n",
    "    max_array = np.full(r.shape,u)\n",
    "    r = l + (r-np.min(r))/(np.max(r)-np.min(r))*(c)\n",
    "    g = l + (g-np.min(g))/(np.max(g)-np.min(g))*(c)\n",
    "    b = l + (b-np.min(b))/(np.max(b)-np.min(b))*(c)\n",
    "    #if a zero division is encountered the nan value is replace by the upper value (u)\n",
    "    output[:,:,0] = np.where(np.isnan(r),max_array,r)\n",
    "    output[:,:,1] = np.where(np.isnan(g),max_array,g)\n",
    "    output[:,:,2] = np.where(np.isnan(b),max_array,b)\n",
    "    return output\n",
    "\n",
    "def histogram_equalization(input):\n",
    "    \"\"\"performs a dynamic histogram equalization in the intensity\n",
    "    channel from the HSV color map\"\"\"\n",
    "    output = np.zeros_like(input,dtype=np.float)\n",
    "    hsv = cv2.cvtColor(input, cv2.COLOR_RGB2HSV)\n",
    "    clahe = cv2.createCLAHE(clipLimit=2.0, tileGridSize=(8,8))\n",
    "    hsv[:,:,2] = clahe.apply(hsv[:,:,2])\n",
    "    output = hsv\n",
    "    return output\n",
    "\n",
    "def grayScale(input):\n",
    "    \"\"\"converts the image to grayscale averaging each channel\"\"\"\n",
    "    r, g, b = input[:,:,0], input[:,:,1], input[:,:,2]\n",
    "    output = 0.3 * r + 0.3 * g + 0.3 * b\n",
    "    return output\n",
    "\n",
    "def highpass(input,kernel = np.array([[-1, -1, -1],[-1,  8, -1], [-1, -1, -1]]), scale= 10.0, offset = 128):\n",
    "    \"\"\"performs a convolution with and then an offset is summed\"\"\"\n",
    "    output = np.zeros_like(input,dtype=np.float64)\n",
    "    r = ndimage.convolve(input[:,:,0], kernel/scale)+offset\n",
    "    g = ndimage.convolve(input[:,:,1], kernel/scale)+offset\n",
    "    b = ndimage.convolve(input[:,:,2], kernel/scale)+offset\n",
    "    output[:,:,0] = r\n",
    "    output[:,:,1] = g\n",
    "    output[:,:,2] = b\n",
    "    return output\n",
    "def add(A,B):\n",
    "    \"\"\"Add two images\"\"\"\n",
    "    output = np.minimum(A+B,255)\n",
    "    return output.astype('uint8')\n",
    "def linearBurn(A,B):\n",
    "    \"\"\"Add two images and the maximum type value for 'uint8' is subtracted\"\"\"\n",
    "    output = np.maximum(0,((A+B)-[255]))\n",
    "    return output.astype('uint8')\n",
    "\n",
    "def enhance(input,iteration = 1,\n",
    "            kernel = np.array([[-1, -1, -1],\n",
    "                               [-1,  8, -1],\n",
    "                               [-1, -1, -1]])):\n",
    "    \"\"\"performs a highpass, from which a linear dodge and a linear burn is executed,\n",
    "    then weights are calculated from the normalization between 0 and 1\n",
    "    the final image is the weighted sum fo the linear burn and linear dodge images.\n",
    "    the process can be run with more iterations.\n",
    "    This funtion willl return a similar image with sharper edges, brighter high value pixels and darker low value  pixels\"\"\"\n",
    "    for i in range(iteration):  \n",
    "        h_pass = highpass(input)\n",
    "        linear_dodge = add(h_pass,input)\n",
    "        linear_burn = linearBurn(h_pass,input)\n",
    "        weights = normalization(input,0,1)\n",
    "        upper = np.multiply((weights),linear_dodge)\n",
    "        lower = np.multiply(1-(weights),linear_burn)\n",
    "        output = (upper+lower).astype('uint8')      \n",
    "    return output\n",
    "\n",
    "def plot_luminance_histogram(input,axe,bins = 15):\n",
    "    luminance = 1/3*(input[:,:,0]+input[:,:,1]+input[:,:,2])\n",
    "    axe.hist(luminance.flatten(), bins = bins, range = (np.min(luminance),np.max(luminance)))\n",
    "    \n",
    "def dividePicture(input, div):\n",
    "    \"\"\"divide the picture in a grid, returns a list of each cell\"\"\"\n",
    "    assert(div in [1,4,16,64])\n",
    "    output  = []\n",
    "    blockWidth = int(np.sqrt(div))\n",
    "    subArrays = np.split(input, blockWidth)\n",
    "    for sa in subArrays:\n",
    "        output.extend(np.split(sa, blockWidth, axis = 1)) \n",
    "    return output\n",
    "\n",
    "def getColorInfo(input, divisions = 1, colors = 6):\n",
    "    \"\"\"gets a histogram for the hue channel of each celll of a divided hsv picture, then appends the result in a single array\"\"\"\n",
    "    output = []\n",
    "    colorChannel = input[:,:,0]\n",
    "    divisions = dividePicture(colorChannel,divisions)\n",
    "    for sub in divisions:\n",
    "        hist, _ = np.histogram(sub,bins = colors)\n",
    "        output.extend(hist/len(sub.flatten()))\n",
    "    return output\n",
    "\n",
    "\n"
   ]
  },
  {
   "cell_type": "code",
   "execution_count": null,
   "metadata": {
    "collapsed": false,
    "deletable": true,
    "editable": true,
    "scrolled": false
   },
   "outputs": [],
   "source": [
    "\n",
    "fig, axes = plt.subplots(4,2,figsize=(10,10))\n",
    "fig.subplots_adjust(hspace=0.5, wspace=0.5)\n",
    "\n",
    "i = random.randint(0,n_train) \n",
    "\n",
    "axes[0][0].imshow(X_train[i])\n",
    "axes[0][0].set_title('Original')\n",
    "plot_luminance_histogram(X_train[i],axes[0][1])\n",
    "\n",
    "enhanced = enhance(X_train[i],1)\n",
    "axes[1][0].imshow(enhanced)\n",
    "axes[1][0].set_title('Enhance')\n",
    "plot_luminance_histogram(enhanced,axes[1][1] )\n",
    "\n",
    "equa = histogram_equalization(enhanced)\n",
    "axes[2][0].imshow(equa[:,:,2], cmap = 'gray')\n",
    "axes[2][0].set_title('Adaptive histogram equalization')\n",
    "plot_luminance_histogram(equa,axes[2][1])\n",
    "\n",
    "norm = normalization(equa)\n",
    "axes[3][0].imshow(norm[:,:,2], cmap = 'gray')\n",
    "axes[3][0].set_title('Normalization')\n",
    "plot_luminance_histogram(norm,axes[3][1])\n",
    "\n",
    "plt.figure()\n",
    "plt.hist(norm[:,:,0].flatten(), bins = 6,range = (np.min(norm),np.max(norm)))\n",
    "\n",
    "plt.show()"
   ]
  },
  {
   "cell_type": "code",
   "execution_count": null,
   "metadata": {
    "collapsed": false,
    "deletable": true,
    "editable": true
   },
   "outputs": [],
   "source": [
    "divisions = 16\n",
    "colors = 6\n",
    "force_preprocess =  True\n",
    "\n",
    "params = {'divisions':divisions,\n",
    "          'colors':colors,\n",
    "          'enhance_iterations':1}\n",
    "\n",
    "\n",
    "X_train_preprocessed = np.empty(X_train_input.shape[0:3]+(1,),dtype = np.float)\n",
    "X_train_color_info = np.empty((X_train_input.shape[0],)+(divisions*colors,),dtype = np.float)\n",
    "X_test_preprocessed = np.empty(X_test.shape[0:3]+(1,),dtype = np.float)\n",
    "X_test_color_info = np.empty((X_test.shape[0],)+(divisions*colors,),dtype = np.float)\n",
    "X_valid_preprocessed = np.empty(X_valid.shape[0:3]+(1,),dtype = np.float)\n",
    "X_valid_color_info = np.empty((X_valid.shape[0],)+(divisions*colors,),dtype = np.float)\n",
    "\n",
    "def preProcess(input, params):\n",
    "    p = input.copy()\n",
    "    p = enhance(p,params['enhance_iterations'])\n",
    "    p = histogram_equalization(p) \n",
    "    p = normalization(p)\n",
    "    colorInfo = getColorInfo(p,params['divisions'],params['colors'])\n",
    "    output = p[:,:,2].reshape(32,32,1)\n",
    "    return output, colorInfo\n",
    "\n",
    "def preProcessAndSave():\n",
    "    for i in tqdm(range(n_train)):\n",
    "        X_train_preprocessed[i], X_train_color_info[i] = preProcess(X_train_input[i],params)\n",
    "    for i in tqdm(range(n_test)):\n",
    "        X_test_preprocessed[i], X_test_color_info[i] = preProcess(X_test[i],params)\n",
    "    for i in tqdm(range(n_valid)):\n",
    "        X_valid_preprocessed[i], X_valid_color_info[i] = preProcess(X_valid[i],params)\n",
    "    pickle.dump(X_train_preprocessed, open('X_train_preprocessed.p','wb'))\n",
    "    pickle.dump(X_test_preprocessed, open('X_test_preprocessed.p','wb'))\n",
    "    pickle.dump(X_valid_preprocessed, open('X_valid_preprocessed.p','wb'))\n",
    "    pickle.dump(X_train_color_info, open('X_train_color_info.p','wb'))\n",
    "    pickle.dump(X_test_color_info, open('X_test_color_info.p','wb'))\n",
    "    pickle.dump(X_valid_color_info, open('X_valid_color_info.p','wb'))\n",
    "    \n",
    "\n"
   ]
  },
  {
   "cell_type": "code",
   "execution_count": null,
   "metadata": {
    "collapsed": false,
    "deletable": true,
    "editable": true
   },
   "outputs": [],
   "source": [
    "if force_preprocess:\n",
    "    preProcessAndSave()   \n",
    "else:\n",
    "    try:\n",
    "        X_train_preprocessed = pickle.load(open('X_train_preprocessed.p','rb'))\n",
    "        X_test_preprocessed = pickle.load(open('X_test_preprocessed.p','rb'))\n",
    "        X_valid_preprocessed = pickle.load(open('X_valid_preprocessed.p','rb'))\n",
    "        X_train_color_info = pickle.load(open('X_train_color_info.p','rb'))\n",
    "        X_test_color_info = pickle.load(open('X_test_color_info.p','rb'))\n",
    "        X_valid_color_info = pickle.load(open('X_valid_color_info.p','rb'))\n",
    "    except(OSError, IOError) as e:\n",
    "        preProcessAndSave()"
   ]
  },
  {
   "cell_type": "code",
   "execution_count": null,
   "metadata": {
    "collapsed": false,
    "deletable": true,
    "editable": true
   },
   "outputs": [],
   "source": [
    "plotGrid(X_train_preprocessed, y_train_input, signnames,'Preprocessed_visualization',10,5)"
   ]
  },
  {
   "cell_type": "markdown",
   "metadata": {
    "collapsed": true,
    "deletable": true,
    "editable": true
   },
   "source": [
    "### Model Architecture"
   ]
  },
  {
   "cell_type": "code",
   "execution_count": null,
   "metadata": {
    "collapsed": false,
    "deletable": true,
    "editable": true
   },
   "outputs": [],
   "source": [
    "##Check is Gpu and tensor flow is enabled\n",
    "from tensorflow.python.client import device_lib\n",
    "def get_available_gpus():\n",
    "    local_device_protos = device_lib.list_local_devices()\n",
    "    return [x.name for x in local_device_protos if x.device_type == 'GPU']\n",
    "print(tf.__version__)\n",
    "print(get_available_gpus())\n"
   ]
  },
  {
   "cell_type": "code",
   "execution_count": null,
   "metadata": {
    "collapsed": false,
    "deletable": true,
    "editable": true
   },
   "outputs": [],
   "source": [
    "save_file = 'checkpoints/best_validation1.ckpt'\n",
    "\n",
    "mu = 0;\n",
    "sigma = 0.1;\n",
    "EPOCHS = 3\n",
    "BATCH_SIZE = 150\n",
    "learning_rate = 1e-3\n",
    "beta = 0.01"
   ]
  },
  {
   "cell_type": "code",
   "execution_count": null,
   "metadata": {
    "collapsed": false,
    "deletable": true,
    "editable": true
   },
   "outputs": [],
   "source": [
    "### Define your architecture here.\n",
    "### Feel free to use as many code cells as needed.\n",
    "def maxpool2d(x, k=2):\n",
    "    return tf.nn.max_pool(x,\n",
    "        ksize=[1, k, k, 1],\n",
    "        strides=[1, k, k, 1],\n",
    "        padding='SAME')\n",
    "    \n",
    "    \n",
    "def model(x,c, kp1, kp2, kp3, kp4,weights,biases, n_classes):\n",
    "\n",
    "    # Weights and biases\n",
    "\n",
    "    # Layer one\n",
    "    conv1 = tf.nn.conv2d(x, weights['w1'], [1,1,1,1],'SAME')  \n",
    "    print('expected: 32x32x32, reality: '+ str(conv1.get_shape()))\n",
    "    conv1 = tf.nn.bias_add(conv1,biases['b1'])\n",
    "    conv1 = tf.nn.relu(conv1, name= 'conv1')\n",
    "    out_1 = conv1;\n",
    "    conv1 = maxpool2d(conv1,2)\n",
    "    conv1 = tf.nn.dropout(conv1, kp1)\n",
    "\n",
    "    print('expected: ?x16x16x32, reality: '+ str(conv1.get_shape()))\n",
    "    # Layer two\n",
    "    conv2 = tf.nn.conv2d(conv1, weights['w2'], [1,1,1,1],'SAME')\n",
    "    print('expected: ?x16x16x64, reality: '+ str(conv2.get_shape()))\n",
    "    conv2 = tf.nn.bias_add(conv2,biases['b2'])\n",
    "    conv2 = tf.nn.relu(conv2, name= 'conv2')\n",
    "    out_2 = conv2\n",
    "    conv2 = maxpool2d(conv2,2)\n",
    "    conv2 = tf.nn.dropout(conv2, kp2)\n",
    "    print('expected: ?x8x8x64, reality: '+ str(conv2.get_shape()))\n",
    "    # Layer three\n",
    "    conv3 = tf.nn.conv2d(conv2, weights['w3'], [1,1,1,1],'SAME')\n",
    "    print('expected: ?x8x8x128, reality: '+ str(conv3.get_shape()))\n",
    "    conv3 = tf.nn.bias_add(conv3,biases['b3'])\n",
    "    conv3 = tf.nn.relu(conv3, name= 'conv3')\n",
    "    out_3 = conv3\n",
    "    conv3 = maxpool2d(conv3,2)\n",
    "    conv3 = tf.nn.dropout(conv3, kp3)\n",
    "    print('expected: ?x4x4x128, reality: '+ str(conv3.get_shape()))\n",
    "\n",
    "    # Flatten layer\n",
    "    conv1 = maxpool2d(conv1,4)\n",
    "    conv1flat = tf.contrib.layers.flatten(conv1)\n",
    "    print('expected: ?x?, reality: '+ str(conv1flat.get_shape()))\n",
    "    conv2 = maxpool2d(conv2,2)\n",
    "    conv2flat = tf.contrib.layers.flatten(conv2)\n",
    "    print('expected: ?x?, reality: '+ str(conv2flat.get_shape()))\n",
    "    conv3flat = tf.contrib.layers.flatten(conv3)\n",
    "    print('expected: ?x?, reality: '+ str(conv3flat.get_shape()))\n",
    "\n",
    "    fcinput = tf.concat(1,[conv1flat, conv2flat, conv3flat,c])\n",
    "    # Fully connected layer 1\n",
    "    fc1 = tf.nn.bias_add(tf.matmul(fcinput,weights['w4']),biases['b4'])\n",
    "    fc1 = tf.nn.relu(fc1, name= 'fc1')\n",
    "    out_4 = fc1\n",
    "    fc1 = tf.nn.dropout(fc1, kp4)    \n",
    "    \n",
    "    # output layer\n",
    "    logits = tf.nn.bias_add(tf.matmul(fc1,weights['w5']),biases['b5'])\n",
    "        \n",
    "    return logits, out_1, out_2, out_3, out_4\n",
    "\n"
   ]
  },
  {
   "cell_type": "markdown",
   "metadata": {
    "deletable": true,
    "editable": true
   },
   "source": [
    "### Train, Validate and Test the Model"
   ]
  },
  {
   "cell_type": "markdown",
   "metadata": {
    "deletable": true,
    "editable": true
   },
   "source": [
    "A validation set can be used to assess how well the model is performing. A low accuracy on the training and validation\n",
    "sets imply underfitting. A high accuracy on the training set but low accuracy on the validation set implies overfitting."
   ]
  },
  {
   "cell_type": "code",
   "execution_count": null,
   "metadata": {
    "collapsed": false,
    "deletable": true,
    "editable": true
   },
   "outputs": [],
   "source": [
    "### Train your model here.\n",
    "### Calculate and report the accuracy on the training and validation set.\n",
    "### Once a final model architecture is selected, \n",
    "### the accuracy on the test set should be calculated and reported as well.\n",
    "### Feel free to use as many code cells as needed.\n",
    "weights = {'w1': tf.Variable(tf.truncated_normal([5,5,1,32],mu,sigma)),\n",
    "           'w2':tf.Variable(tf.truncated_normal([5,5,32,64],mu,sigma)),\n",
    "           'w3':tf.Variable(tf.truncated_normal([5,5,64,128],mu,sigma)),\n",
    "           'w4':tf.Variable(tf.truncated_normal([(3584)+divisions*colors,1048],mu,sigma)),\n",
    "           'w5':tf.Variable(tf.truncated_normal([1048,n_classes],mu,sigma))}\n",
    "\n",
    "biases = {'b1': tf.Variable(tf.zeros([32])),\n",
    "          'b2': tf.Variable(tf.zeros([64])),\n",
    "          'b3': tf.Variable(tf.zeros([128])),\n",
    "          'b4': tf.Variable(tf.zeros([1048])),\n",
    "          'b5': tf.Variable(tf.zeros([n_classes])),}\n",
    "\n",
    "keep_prob = { 'k1': .9,\n",
    "              'k2': .8,\n",
    "              'k3': .5,\n",
    "              'k4': .1}\n",
    "\n",
    "x = tf.placeholder(tf.float32, (None, 32, 32,1))\n",
    "c = tf.placeholder(tf.float32, (None, divisions*colors))\n",
    "y = tf.placeholder(tf.int32, (None))\n",
    "\n",
    "keep_prob_layer1 = tf.placeholder(tf.float32)\n",
    "keep_prob_layer2 = tf.placeholder(tf.float32)\n",
    "keep_prob_layer3 = tf.placeholder(tf.float32)\n",
    "keep_prob_layer4 = tf.placeholder(tf.float32)\n",
    "\n",
    "\n",
    "one_hot_y = tf.one_hot(y,n_classes)\n",
    "\n",
    "logits, out_1, out_2, out_3, out_4 = model(x,\n",
    "                                           c,\n",
    "                                           keep_prob_layer1,\n",
    "                                           keep_prob_layer2,\n",
    "                                           keep_prob_layer3,\n",
    "                                           keep_prob_layer4,\n",
    "                                           weights,\n",
    "                                           biases,\n",
    "                                           n_classes)\n",
    "cross_entropy = tf.nn.softmax_cross_entropy_with_logits(logits=logits, labels=one_hot_y)\n",
    "loss_operation = tf.reduce_mean(cross_entropy)\n",
    "regularizers =  tf.nn.l2_loss(weights['w4']) + tf.nn.l2_loss(weights['w5'])\n",
    "loss_operation = tf.reduce_mean(loss_operation + beta*regularizers)\n",
    "optimizer = tf.train.AdamOptimizer(learning_rate = learning_rate)\n",
    "training_operation = optimizer.minimize(loss_operation)\n",
    "saver = tf.train.Saver()\n"
   ]
  },
  {
   "cell_type": "code",
   "execution_count": null,
   "metadata": {
    "collapsed": false,
    "deletable": true,
    "editable": true
   },
   "outputs": [],
   "source": [
    "correct_prediction = tf.equal(tf.argmax(logits, 1), tf.argmax(one_hot_y, 1))\n",
    "accuracy_operation = tf.reduce_mean(tf.cast(correct_prediction, tf.float32))\n",
    "\n",
    "def getPrecisionRecall(X_data,cdata,ydata):\n",
    "    sess = tf.get_default_session()\n",
    "\n",
    "def evaluate(X_data, c_data, y_data):\n",
    "    num_examples = len(X_data)\n",
    "    total_accuracy = 0\n",
    "    sess = tf.get_default_session()\n",
    "    for offset in range(0, num_examples, BATCH_SIZE):\n",
    "        batch_x, batch_c, batch_y= X_data[offset:offset+BATCH_SIZE], c_data[offset:offset+BATCH_SIZE], y_data[offset:offset+BATCH_SIZE]\n",
    "        accuracy = sess.run(accuracy_operation, feed_dict={x: batch_x,\n",
    "                                                           c: batch_c,\n",
    "                                                           y: batch_y,\n",
    "                                                           keep_prob_layer1: 1,\n",
    "                                                           keep_prob_layer2: 1,\n",
    "                                                           keep_prob_layer3: 1,\n",
    "                                                           keep_prob_layer4: 1\n",
    "                                                          })\n",
    "        total_accuracy += (accuracy * len(batch_x))\n",
    "    return total_accuracy / num_examples\n",
    "    "
   ]
  },
  {
   "cell_type": "code",
   "execution_count": null,
   "metadata": {
    "collapsed": false,
    "deletable": true,
    "editable": true,
    "scrolled": true
   },
   "outputs": [],
   "source": [
    "tac = []\n",
    "vac = []\n",
    "\n",
    "with tf.Session() as sess:\n",
    "    sess.run(tf.global_variables_initializer())\n",
    "    num_examples = n_train\n",
    "    print(\"num examples: {}\".format(num_examples))\n",
    "    print(\"training...\")\n",
    "    print()\n",
    "    bestValidation = 0\n",
    "    for i in range(EPOCHS):\n",
    "        X_train_preprocessed, X_train_color_info, y_train_input = shuffle(X_train_preprocessed,\n",
    "                                                                          X_train_color_info,\n",
    "                                                                          y_train_input)\n",
    "        for offset in range(0, num_examples, BATCH_SIZE):\n",
    "            end = offset + BATCH_SIZE\n",
    "            batch_x, batch_c, batch_y = X_train_preprocessed[offset:end], X_train_color_info[offset:end], y_train_input[offset:end]\n",
    "            sess.run(training_operation, feed_dict={x: batch_x,\n",
    "                                                    c: batch_c,\n",
    "                                                    y: batch_y,\n",
    "                                                    keep_prob_layer1: keep_prob['k1'],\n",
    "                                                    keep_prob_layer2: keep_prob['k2'],\n",
    "                                                    keep_prob_layer3: keep_prob['k3'],\n",
    "                                                    keep_prob_layer4: keep_prob['k4']})\n",
    "        training_accuracy = evaluate(X_train_preprocessed, X_train_color_info, y_train_input)\n",
    "        validation_accuracy = evaluate(X_valid_preprocessed, X_valid_color_info, y_valid)\n",
    "        tac.append(training_accuracy)\n",
    "        vac.append(validation_accuracy)\n",
    "        if validation_accuracy>bestValidation:\n",
    "            try:\n",
    "                saver\n",
    "            except nameError:\n",
    "                saver = tf.train.Saver()\n",
    "            saver.save(sess,save_file)\n",
    "            print(\"Model Saved\")\n",
    "            bestValidation = validation_accuracy\n",
    "            \n",
    "        print(\"EPOCH {} ...\".format(i+1))\n",
    "        print(\"training acurracy = {:.3f}\".format(training_accuracy))\n",
    "        print(\"Validation acurracy = {:.3f}\".format(validation_accuracy))\n",
    "        print()\n"
   ]
  },
  {
   "cell_type": "code",
   "execution_count": null,
   "metadata": {
    "collapsed": false,
    "deletable": true,
    "editable": true
   },
   "outputs": [],
   "source": [
    "plt.figure()\n",
    "epochs = range(len(tac))\n",
    "plt.plot(epochs,tac)\n",
    "plt.plot(epochs,vac)\n",
    "plt.show()"
   ]
  },
  {
   "cell_type": "code",
   "execution_count": null,
   "metadata": {
    "collapsed": false,
    "deletable": true,
    "editable": true
   },
   "outputs": [],
   "source": [
    "with tf.Session() as sess:\n",
    "    saver.restore(sess, save_file)\n",
    "    print('Model restored.')\n",
    "    test_accuracy = sess.run(accuracy_operation, feed_dict={x: X_test_preprocessed, \n",
    "                                                            c: X_test_color_info,\n",
    "                                                            y: y_test,\n",
    "                                                            keep_prob_layer1: 1,\n",
    "                                                            keep_prob_layer2: 1,\n",
    "                                                            keep_prob_layer3: 1,\n",
    "                                                            keep_prob_layer4: 1})\n",
    "\n",
    "print('Test Accuracy: {}'.format(test_accuracy))"
   ]
  },
  {
   "cell_type": "markdown",
   "metadata": {
    "deletable": true,
    "editable": true
   },
   "source": [
    "---\n",
    "\n",
    "## Step 3: Test a Model on New Images\n",
    "\n",
    "To give yourself more insight into how your model is working, download at least five pictures of German traffic signs from the web and use your model to predict the traffic sign type.\n",
    "\n",
    "You may find `signnames.csv` useful as it contains mappings from the class id (integer) to the actual sign name."
   ]
  },
  {
   "cell_type": "markdown",
   "metadata": {
    "collapsed": true,
    "deletable": true,
    "editable": true
   },
   "source": [
    "untermainbrücke, mainkai, frankfurt"
   ]
  },
  {
   "cell_type": "markdown",
   "metadata": {
    "deletable": true,
    "editable": true
   },
   "source": [
    "### Load and Output the Images"
   ]
  },
  {
   "cell_type": "code",
   "execution_count": null,
   "metadata": {
    "collapsed": false,
    "deletable": true,
    "editable": true
   },
   "outputs": [],
   "source": [
    "\n",
    "images_paths = glob.glob(\"cropped_traffic_signs/*\")\n",
    "print(images_paths)\n",
    "X_internet = np.empty((0,32,32,3),dtype= 'uint8')\n",
    "X_labels = np.array([13, 12,13,17,1,25,33,15,15,17,17,1,24,14,14,25,14,35,17,17,\n",
    "                     15,12,13,35,13,33,18,13,25,25,38,17,23,12,1,1,28,28,1,36])\n",
    "for i, img_path in enumerate(images_paths):\n",
    "    img = Image.open(img_path)\n",
    "    resized = img.resize((32,32), Image.ANTIALIAS)\n",
    "    X_internet = np.append(X_internet,[np.array(resized)[:,:,:3]], axis = 0)\n",
    "plotGrid(X_internet,X_labels,signnames, 'internet_images_raw', 6, 43)    \n",
    "\n",
    "\n"
   ]
  },
  {
   "cell_type": "code",
   "execution_count": null,
   "metadata": {
    "collapsed": false,
    "deletable": true,
    "editable": true
   },
   "outputs": [],
   "source": [
    "n_internet_images = X_internet.shape[0]\n",
    "n_internet_labels = []\n",
    "X_internet_preprocessed = np.empty(X_internet.shape[0:3]+(1,),dtype = np.float)\n",
    "c_internet = np.empty((X_internet.shape[0],)+(divisions*colors,),dtype = np.float)\n",
    "for i in tqdm(range(n_internet_images)):\n",
    "        X_internet_preprocessed[i], c_internet[i] = preProcess(X_internet[i],params)"
   ]
  },
  {
   "cell_type": "code",
   "execution_count": null,
   "metadata": {
    "collapsed": false,
    "deletable": true,
    "editable": true
   },
   "outputs": [],
   "source": [
    "plotGrid(X_internet_preprocessed,X_labels,signnames,'internet_images_preprocessed', 6, 43)  "
   ]
  },
  {
   "cell_type": "markdown",
   "metadata": {
    "deletable": true,
    "editable": true
   },
   "source": [
    "### Predict the Sign Type for Each Image"
   ]
  },
  {
   "cell_type": "code",
   "execution_count": null,
   "metadata": {
    "collapsed": false,
    "deletable": true,
    "editable": true
   },
   "outputs": [],
   "source": [
    "### Run the predictions here and use the model to output the prediction for each image.\n",
    "### Make sure to pre-process the images with the same pre-processing pipeline used earlier.\n",
    "### Feel free to use as many code cells as needed.\n",
    "with tf.Session() as sess:\n",
    "    saver.restore(sess, save_file)\n",
    "    predicted_classes = sess.run(tf.nn.softmax(logits), feed_dict={x: X_internet_preprocessed,\n",
    "                                                    c: c_internet,\n",
    "                                                    keep_prob_layer1: 1,\n",
    "                                                    keep_prob_layer2: 1,\n",
    "                                                    keep_prob_layer3: 1,\n",
    "                                                    keep_prob_layer4: 1})\n",
    "    best = sess.run(tf.nn.top_k(predicted_classes, k=5))\n",
    "\n"
   ]
  },
  {
   "cell_type": "markdown",
   "metadata": {
    "deletable": true,
    "editable": true
   },
   "source": [
    "### Analyze Performance"
   ]
  },
  {
   "cell_type": "code",
   "execution_count": null,
   "metadata": {
    "collapsed": true,
    "deletable": true,
    "editable": true
   },
   "outputs": [],
   "source": [
    "### Calculate the accuracy for these 5 new images. \n",
    "### For example, if the model predicted 1 out of 5 signs correctly, it's 20% accurate on these new images.\n",
    "\n"
   ]
  },
  {
   "cell_type": "markdown",
   "metadata": {
    "deletable": true,
    "editable": true
   },
   "source": [
    "### Output Top 5 Softmax Probabilities For Each Image Found on the Web"
   ]
  },
  {
   "cell_type": "markdown",
   "metadata": {
    "deletable": true,
    "editable": true
   },
   "source": [
    "For each of the new images, print out the model's softmax probabilities to show the **certainty** of the model's predictions (limit the output to the top 5 probabilities for each image). [`tf.nn.top_k`](https://www.tensorflow.org/versions/r0.12/api_docs/python/nn.html#top_k) could prove helpful here. \n",
    "\n",
    "The example below demonstrates how tf.nn.top_k can be used to find the top k predictions for each image.\n",
    "\n",
    "`tf.nn.top_k` will return the values and indices (class ids) of the top k predictions. So if k=3, for each sign, it'll return the 3 largest probabilities (out of a possible 43) and the correspoding class ids.\n",
    "\n",
    "Take this numpy array as an example. The values in the array represent predictions. The array contains softmax probabilities for five candidate images with six possible classes. `tk.nn.top_k` is used to choose the three classes with the highest probability:\n",
    "\n",
    "```\n",
    "# (5, 6) array\n",
    "a = np.array([[ 0.24879643,  0.07032244,  0.12641572,  0.34763842,  0.07893497,\n",
    "         0.12789202],\n",
    "       [ 0.28086119,  0.27569815,  0.08594638,  0.0178669 ,  0.18063401,\n",
    "         0.15899337],\n",
    "       [ 0.26076848,  0.23664738,  0.08020603,  0.07001922,  0.1134371 ,\n",
    "         0.23892179],\n",
    "       [ 0.11943333,  0.29198961,  0.02605103,  0.26234032,  0.1351348 ,\n",
    "         0.16505091],\n",
    "       [ 0.09561176,  0.34396535,  0.0643941 ,  0.16240774,  0.24206137,\n",
    "         0.09155967]])\n",
    "```\n",
    "\n",
    "Running it through `sess.run(tf.nn.top_k(tf.constant(a), k=3))` produces:\n",
    "\n",
    "```\n",
    "TopKV2(values=array([[ 0.34763842,  0.24879643,  0.12789202],\n",
    "       [ 0.28086119,  0.27569815,  0.18063401],\n",
    "       [ 0.26076848,  0.23892179,  0.23664738],\n",
    "       [ 0.29198961,  0.26234032,  0.16505091],\n",
    "       [ 0.34396535,  0.24206137,  0.16240774]]), indices=array([[3, 0, 5],\n",
    "       [0, 1, 4],\n",
    "       [0, 5, 1],\n",
    "       [1, 3, 5],\n",
    "       [1, 4, 3]], dtype=int32))\n",
    "```\n",
    "\n",
    "Looking just at the first row we get `[ 0.34763842,  0.24879643,  0.12789202]`, you can confirm these are the 3 largest probabilities in `a`. You'll also notice `[3, 0, 5]` are the corresponding indices."
   ]
  },
  {
   "cell_type": "code",
   "execution_count": null,
   "metadata": {
    "collapsed": false,
    "deletable": true,
    "editable": true
   },
   "outputs": [],
   "source": [
    "### Print out the top five softmax probabilities for the predictions on the German traffic sign images found on the web. \n",
    "### Feel free to use as many code cells as needed.\n",
    "\n",
    "for ind,img in enumerate(X_internet):\n",
    "    fig, axes = plt.subplots(1, 2,figsize=(20,2))\n",
    "    fig.subplots_adjust(wspace=0.3) \n",
    "    axes[0].imshow(img)\n",
    "    axes[1].barh([0,1,2,3,4],best.values[ind])\n",
    "    labels = [signnames[x] for x in best.indices[ind]]\n",
    "    plt.yticks([0,1,2,3,4], labels)\n",
    "plt.show()"
   ]
  },
  {
   "cell_type": "markdown",
   "metadata": {
    "deletable": true,
    "editable": true
   },
   "source": [
    "---\n",
    "\n",
    "## Step 4: Visualize the Neural Network's State with Test Images\n",
    "\n",
    " This Section is not required to complete but acts as an additional excersise for understaning the output of a neural network's weights. While neural networks can be a great learning device they are often referred to as a black box. We can understand what the weights of a neural network look like better by plotting their feature maps. After successfully training your neural network you can see what it's feature maps look like by plotting the output of the network's weight layers in response to a test stimuli image. From these plotted feature maps, it's possible to see what characteristics of an image the network finds interesting. For a sign, maybe the inner network feature maps react with high activation to the sign's boundary outline or to the contrast in the sign's painted symbol.\n",
    "\n",
    " Provided for you below is the function code that allows you to get the visualization output of any tensorflow weight layer you want. The inputs to the function should be a stimuli image, one used during training or a new one you provided, and then the tensorflow variable name that represents the layer's state during the training process, for instance if you wanted to see what the [LeNet lab's](https://classroom.udacity.com/nanodegrees/nd013/parts/fbf77062-5703-404e-b60c-95b78b2f3f9e/modules/6df7ae49-c61c-4bb2-a23e-6527e69209ec/lessons/601ae704-1035-4287-8b11-e2c2716217ad/concepts/d4aca031-508f-4e0b-b493-e7b706120f81) feature maps looked like for it's second convolutional layer you could enter conv2 as the tf_activation variable.\n",
    "\n",
    "For an example of what feature map outputs look like, check out NVIDIA's results in their paper [End-to-End Deep Learning for Self-Driving Cars](https://devblogs.nvidia.com/parallelforall/deep-learning-self-driving-cars/) in the section Visualization of internal CNN State. NVIDIA was able to show that their network's inner weights had high activations to road boundary lines by comparing feature maps from an image with a clear path to one without. Try experimenting with a similar test to show that your trained network's weights are looking for interesting features, whether it's looking at differences in feature maps from images with or without a sign, or even what feature maps look like in a trained network vs a completely untrained one on the same sign image.\n",
    "\n",
    "<figure>\n",
    " <img src=\"visualize_cnn.png\" width=\"380\" alt=\"Combined Image\" />\n",
    " <figcaption>\n",
    " <p></p> \n",
    " <p style=\"text-align: center;\"> Your output should look something like this (above)</p> \n",
    " </figcaption>\n",
    "</figure>\n",
    " <p></p> \n"
   ]
  },
  {
   "cell_type": "code",
   "execution_count": null,
   "metadata": {
    "collapsed": true,
    "deletable": true,
    "editable": true
   },
   "outputs": [],
   "source": [
    "### Visualize your network's feature maps here.\n",
    "### Feel free to use as many code cells as needed.\n",
    "\n",
    "# image_input: the test image being fed into the network to produce the feature maps\n",
    "# tf_activation: should be a tf variable name used during your training procedure that represents the calculated state of a specific weight layer\n",
    "# activation_min/max: can be used to view the activation contrast in more detail, by default matplot sets min and max to the actual min and max values of the output\n",
    "# plt_num: used to plot out multiple different weight feature map sets on the same block, just extend the plt number for each new feature map entry\n",
    "\n",
    "def outputFeatureMap(image_input,color_input,  tf_activation, activation_min=-1, activation_max=-1 ,plt_num=1):\n",
    "    # Here make sure to preprocess your image_input in a way your network expects\n",
    "    # with size, normalization, ect if needed\n",
    "    \n",
    "    # Note: x should be the same name as your network's tensorflow data placeholder variable\n",
    "    # If you get an error tf_activation is not defined it maybe having trouble accessing the variable from inside a function\n",
    "    activation = tf_activation.eval(session=sess,feed_dict={x : image_input,\n",
    "                                                            c : color_input, \n",
    "                                                            keep_prob_layer1: 1,\n",
    "                                                            keep_prob_layer2: 1,\n",
    "                                                            keep_prob_layer3: 1,\n",
    "                                                            keep_prob_layer4: 1})\n",
    "    featuremaps = activation.shape[3]\n",
    "    plt.figure(plt_num, figsize=(15,15))\n",
    "    for featuremap in range(featuremaps):\n",
    "        plt.subplot((featuremaps+1)//8,8, featuremap+1) # sets the number of feature maps to show on each row and column\n",
    "        plt.title('FeatureMap ' + str(featuremap)) # displays the feature map number\n",
    "        if activation_min != -1 & activation_max != -1:\n",
    "            plt.imshow(activation[0,:,:, featuremap], interpolation=\"nearest\", vmin =activation_min, vmax=activation_max, cmap=\"gray\")\n",
    "        elif activation_max != -1:\n",
    "            plt.imshow(activation[0,:,:, featuremap], interpolation=\"nearest\", vmax=activation_max, cmap=\"gray\")\n",
    "        elif activation_min !=-1:\n",
    "            plt.imshow(activation[0,:,:, featuremap], interpolation=\"nearest\", vmin=activation_min, cmap=\"gray\")\n",
    "        else:\n",
    "            plt.imshow(activation[0,:,:, featuremap], interpolation=\"nearest\", cmap=\"gray\")\n",
    "    plt.show()\n"
   ]
  },
  {
   "cell_type": "code",
   "execution_count": null,
   "metadata": {
    "collapsed": false,
    "deletable": true,
    "editable": true
   },
   "outputs": [],
   "source": [
    "\n",
    "input_image = X_train_preprocessed[0:200]\n",
    "input_color = X_train_color_info[0:200]\n",
    "with tf.Session() as sess:\n",
    "    saver.restore(sess, save_file)\n",
    "    outputFeatureMap(input_image,input_color, out_1)"
   ]
  },
  {
   "cell_type": "code",
   "execution_count": null,
   "metadata": {
    "collapsed": false,
    "deletable": true,
    "editable": true
   },
   "outputs": [],
   "source": [
    "with tf.Session() as sess:\n",
    "    saver.restore(sess, save_file)\n",
    "    outputFeatureMap(input_image,input_color, out_2)"
   ]
  },
  {
   "cell_type": "code",
   "execution_count": null,
   "metadata": {
    "collapsed": false,
    "deletable": true,
    "editable": true
   },
   "outputs": [],
   "source": [
    "with tf.Session() as sess:\n",
    "    saver.restore(sess, save_file)\n",
    "    outputFeatureMap(input_image,input_color, out_3)"
   ]
  },
  {
   "cell_type": "markdown",
   "metadata": {
    "deletable": true,
    "editable": true
   },
   "source": [
    "### Question 9\n",
    "\n",
    "Discuss how you used the visual output of your trained network's feature maps to show that it had learned to look for interesting characteristics in traffic sign images\n"
   ]
  },
  {
   "cell_type": "markdown",
   "metadata": {
    "deletable": true,
    "editable": true
   },
   "source": [
    "**Answer:**"
   ]
  },
  {
   "cell_type": "markdown",
   "metadata": {
    "deletable": true,
    "editable": true
   },
   "source": [
    "> **Note**: Once you have completed all of the code implementations and successfully answered each question above, you may finalize your work by exporting the iPython Notebook as an HTML document. You can do this by using the menu above and navigating to  \\n\",\n",
    "    \"**File -> Download as -> HTML (.html)**. Include the finished document along with this notebook as your submission."
   ]
  },
  {
   "cell_type": "markdown",
   "metadata": {
    "deletable": true,
    "editable": true
   },
   "source": [
    "### Project Writeup\n",
    "\n",
    "Once you have completed the code implementation, document your results in a project writeup using this [template](https://github.com/udacity/CarND-Traffic-Sign-Classifier-Project/blob/master/writeup_template.md) as a guide. The writeup can be in a markdown or pdf file. "
   ]
  }
 ],
 "metadata": {
  "anaconda-cloud": {},
  "kernelspec": {
   "display_name": "Python 3",
   "language": "python",
   "name": "python3"
  },
  "language_info": {
   "codemirror_mode": {
    "name": "ipython",
    "version": 3
   },
   "file_extension": ".py",
   "mimetype": "text/x-python",
   "name": "python",
   "nbconvert_exporter": "python",
   "pygments_lexer": "ipython3",
   "version": "3.5.2"
  },
  "widgets": {
   "state": {},
   "version": "1.1.2"
  }
 },
 "nbformat": 4,
 "nbformat_minor": 1
}
